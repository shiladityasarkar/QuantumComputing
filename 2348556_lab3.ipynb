{
  "cells": [
    {
      "cell_type": "markdown",
      "metadata": {
        "id": "view-in-github",
        "colab_type": "text"
      },
      "source": [
        "<a href=\"https://colab.research.google.com/github/shiladityasarkar/QuantumComputing/blob/master/2348556_lab3.ipynb\" target=\"_parent\"><img src=\"https://colab.research.google.com/assets/colab-badge.svg\" alt=\"Open In Colab\"/></a>"
      ]
    },
    {
      "cell_type": "markdown",
      "source": [
        "# Made by Shiladitya **2348556** with ❤️"
      ],
      "metadata": {
        "id": "UJTA7a6L1OUV"
      }
    },
    {
      "cell_type": "markdown",
      "source": [
        "## Installing libraries"
      ],
      "metadata": {
        "id": "VRKKjpbirc4E"
      }
    },
    {
      "cell_type": "code",
      "source": [
        "%pip install qiskit_aer -q\n",
        "%pip install qiskit -q\n",
        "!pip install 'qiskit[visualization]' --quiet\n",
        "!pip install pylatexenc --quiet"
      ],
      "metadata": {
        "id": "m-rQsJZ7snT_"
      },
      "execution_count": 44,
      "outputs": []
    },
    {
      "cell_type": "code",
      "execution_count": 58,
      "metadata": {
        "id": "DfeQw4zxy0fa"
      },
      "outputs": [],
      "source": [
        "import numpy as np\n",
        "from IPython.display import display"
      ]
    },
    {
      "cell_type": "markdown",
      "source": [
        "## Performing tensor product of two vectors"
      ],
      "metadata": {
        "id": "hjFuzXotrY_B"
      }
    },
    {
      "cell_type": "code",
      "source": [
        "v1 = np.array([2, 5])\n",
        "v2 = np.array([7, 10])\n",
        "tensor_product = np.kron(v1, v2)\n",
        "print(\"Tensor Product of v1 and v2:\")\n",
        "print(tensor_product)"
      ],
      "metadata": {
        "colab": {
          "base_uri": "https://localhost:8080/"
        },
        "id": "CQKXBvnwrYFv",
        "outputId": "73ccff6d-f11a-4d9f-fb8d-d01dd9708ec2"
      },
      "execution_count": 6,
      "outputs": [
        {
          "output_type": "stream",
          "name": "stdout",
          "text": [
            "Tensor Product of v1 and v2:\n",
            "[14 20 35 50]\n"
          ]
        }
      ]
    },
    {
      "cell_type": "markdown",
      "source": [
        "## Taking a Bell state as an example"
      ],
      "metadata": {
        "id": "ubmoj8q70cvc"
      }
    },
    {
      "cell_type": "code",
      "source": [
        "from qiskit.quantum_info import Statevector, Operator\n",
        "from numpy import sqrt\n",
        "\n",
        "# a Bell state\n",
        "initial_state = Statevector([1/sqrt(2), 0, 0, 1/sqrt(2)])\n",
        "print(\"Initial state:\")\n",
        "initial_state.draw('latex')"
      ],
      "metadata": {
        "colab": {
          "base_uri": "https://localhost:8080/",
          "height": 58
        },
        "id": "b2YuHs7tsNss",
        "outputId": "5ad5f86b-592c-4204-96d7-fae0bcc68ce2"
      },
      "execution_count": 47,
      "outputs": [
        {
          "output_type": "stream",
          "name": "stdout",
          "text": [
            "Initial state:\n"
          ]
        },
        {
          "output_type": "execute_result",
          "data": {
            "text/plain": [
              "<IPython.core.display.Latex object>"
            ],
            "text/latex": "$$\\frac{\\sqrt{2}}{2} |00\\rangle+\\frac{\\sqrt{2}}{2} |11\\rangle$$"
          },
          "metadata": {},
          "execution_count": 47
        }
      ]
    },
    {
      "cell_type": "markdown",
      "source": [
        "## Partial measurements ..."
      ],
      "metadata": {
        "id": "zOYm2vZU1CFh"
      }
    },
    {
      "cell_type": "code",
      "source": [
        "# Define a quantum operator (We choose the CNOT gate)\n",
        "cnot_operator = Operator([\n",
        "    [1, 0, 0, 0],\n",
        "    [0, 1, 0, 0],\n",
        "    [0, 0, 0, 1],\n",
        "    [0, 0, 1, 0]\n",
        "])\n",
        "\n",
        "# Apply the operator to the state vector\n",
        "final_state = cnot_operator @ initial_state\n",
        "\n",
        "print(\"Final state:\")\n",
        "print(final_state, '\\n\\n')\n",
        "\n",
        "# Performing partial measurement to get the probabilities of the first qubit being 0 or 1\n",
        "probabilities = [\n",
        "    abs(final_state.data[0])**2 + abs(final_state.data[1])**2,\n",
        "    abs(final_state.data[2])**2 + abs(final_state.data[3])**2\n",
        "]\n",
        "\n",
        "print(\"State of the system after partial measurement:\")\n",
        "print(\"P(X=0):\")\n",
        "Statevector(probabilities[0]).draw('latex')"
      ],
      "metadata": {
        "colab": {
          "base_uri": "https://localhost:8080/",
          "height": 212
        },
        "id": "klR01_eAwKoM",
        "outputId": "d473d824-b6fd-412b-e609-3535c4333398"
      },
      "execution_count": 69,
      "outputs": [
        {
          "output_type": "stream",
          "name": "stdout",
          "text": [
            "Final state:\n",
            "Operator([[0.5+0.j, 0. +0.j, 0. +0.j, 0.5+0.j],\n",
            "          [0. +0.j, 0. +0.j, 0. +0.j, 0. +0.j],\n",
            "          [0.5+0.j, 0. +0.j, 0. +0.j, 0.5+0.j],\n",
            "          [0. +0.j, 0. +0.j, 0. +0.j, 0. +0.j]],\n",
            "         input_dims=(2, 2), output_dims=(2, 2)) \n",
            "\n",
            "\n",
            "State of the system after partial measurement:\n",
            "P(X=0):\n"
          ]
        },
        {
          "output_type": "execute_result",
          "data": {
            "text/plain": [
              "<IPython.core.display.Latex object>"
            ],
            "text/latex": "$$\\frac{1}{4} |00\\rangle+\\frac{1}{4} |11\\rangle$$"
          },
          "metadata": {},
          "execution_count": 69
        }
      ]
    },
    {
      "cell_type": "code",
      "source": [
        "print(\"State of the system after partial measurement:\")\n",
        "print(\"P(X=1):\")\n",
        "Statevector(probabilities[1]).draw('latex')"
      ],
      "metadata": {
        "colab": {
          "base_uri": "https://localhost:8080/",
          "height": 73
        },
        "id": "p_ChxfMlzSU7",
        "outputId": "9ee53476-f008-4e24-a9d6-11e1a554ef99"
      },
      "execution_count": 63,
      "outputs": [
        {
          "output_type": "stream",
          "name": "stdout",
          "text": [
            "Probabilities after partial measurement:\n",
            "P(X=1):\n"
          ]
        },
        {
          "output_type": "execute_result",
          "data": {
            "text/plain": [
              "<IPython.core.display.Latex object>"
            ],
            "text/latex": "$$\\frac{1}{4} |00\\rangle+\\frac{1}{4} |11\\rangle$$"
          },
          "metadata": {},
          "execution_count": 63
        }
      ]
    },
    {
      "cell_type": "markdown",
      "source": [
        "## CSWAP!"
      ],
      "metadata": {
        "id": "Fjt3ApTI1Gzh"
      }
    },
    {
      "cell_type": "code",
      "source": [
        "# Matrix representation of CSWAP gate\n",
        "cswap_matrix = np.array([\n",
        "    [1, 0, 0, 0, 0, 0, 0, 0],\n",
        "    [0, 1, 0, 0, 0, 0, 0, 0],\n",
        "    [0, 0, 1, 0, 0, 0, 0, 0],\n",
        "    [0, 0, 0, 1, 0, 0, 0, 0],\n",
        "    [0, 0, 0, 0, 1, 0, 0, 0],\n",
        "    [0, 0, 0, 0, 0, 0, 1, 0],\n",
        "    [0, 0, 0, 0, 0, 1, 0, 0],\n",
        "    [0, 0, 0, 0, 0, 0, 0, 1]\n",
        "])\n",
        "\n",
        "print(\"Matrix representation of CSWAP gate:\")\n",
        "print(cswap_matrix)\n",
        "\n",
        "\n",
        "# Dirac notation of CSWAP gate\n",
        "# CSWAP = |0><0| ⊗ I + |1><1| ⊗ SWAP\n",
        "# where I is the identity operator and SWAP is the swap operator\n",
        "\n",
        "# We can also write it as:\n",
        "# CSWAP |abc> = |a><a| ⊗ I |abc> + |a><a| ⊗ SWAP |abc>\n",
        "#             = |a><a| |abc> + |a><a| |bac>\n",
        "\n",
        "# Here, |a>, |b>, |c> represent the states of the three qubits.\n",
        "\n",
        "print(\"\\nDirac notation of CSWAP gate:\")\n",
        "print(\"CSWAP = |0><0| ⊗ I + |1><1| ⊗ SWAP\")"
      ],
      "metadata": {
        "colab": {
          "base_uri": "https://localhost:8080/"
        },
        "id": "dZ33hfwnz6Qw",
        "outputId": "0ec2a281-4645-4a41-ba36-c3b76571fdb7"
      },
      "execution_count": 64,
      "outputs": [
        {
          "output_type": "stream",
          "name": "stdout",
          "text": [
            "Matrix representation of CSWAP gate:\n",
            "[[1 0 0 0 0 0 0 0]\n",
            " [0 1 0 0 0 0 0 0]\n",
            " [0 0 1 0 0 0 0 0]\n",
            " [0 0 0 1 0 0 0 0]\n",
            " [0 0 0 0 1 0 0 0]\n",
            " [0 0 0 0 0 0 1 0]\n",
            " [0 0 0 0 0 1 0 0]\n",
            " [0 0 0 0 0 0 0 1]]\n",
            "\n",
            "Dirac notation of CSWAP gate:\n",
            "CSWAP = |0><0| ⊗ I + |1><1| ⊗ SWAP\n"
          ]
        }
      ]
    },
    {
      "cell_type": "markdown",
      "source": [
        "## Toffoli!"
      ],
      "metadata": {
        "id": "1ieggJSz1I-5"
      }
    },
    {
      "cell_type": "code",
      "source": [
        "# Toffoli gate matrix representation\n",
        "toffoli_matrix = np.array([\n",
        "    [1, 0, 0, 0, 0, 0, 0, 0],\n",
        "    [0, 1, 0, 0, 0, 0, 0, 0],\n",
        "    [0, 0, 1, 0, 0, 0, 0, 0],\n",
        "    [0, 0, 0, 1, 0, 0, 0, 0],\n",
        "    [0, 0, 0, 0, 1, 0, 0, 0],\n",
        "    [0, 0, 0, 0, 0, 1, 0, 0],\n",
        "    [0, 0, 0, 0, 0, 0, 0, 1],\n",
        "    [0, 0, 0, 0, 0, 0, 1, 0]\n",
        "])\n",
        "\n",
        "print(\"Matrix representation of Toffoli gate:\")\n",
        "print(toffoli_matrix)\n",
        "\n",
        "\n",
        "# Dirac notation of Toffoli gate\n",
        "# Toffoli = |00><00| ⊗ I + |01><01| ⊗ I + |10><10| ⊗ I + |11><11| ⊗ X\n",
        "# where I is the identity operator and X is the Pauli-X gate\n",
        "\n",
        "print(\"\\nDirac notation of Toffoli gate:\")\n",
        "print(\"Toffoli = |00><00| ⊗ I + |01><01| ⊗ I + |10><10| ⊗ I + |11><11| ⊗ X\")"
      ],
      "metadata": {
        "colab": {
          "base_uri": "https://localhost:8080/"
        },
        "id": "IVLOxsL20EtJ",
        "outputId": "3fe65dc5-183e-4e56-e81a-00e6bf85f5f4"
      },
      "execution_count": 65,
      "outputs": [
        {
          "output_type": "stream",
          "name": "stdout",
          "text": [
            "Matrix representation of Toffoli gate:\n",
            "[[1 0 0 0 0 0 0 0]\n",
            " [0 1 0 0 0 0 0 0]\n",
            " [0 0 1 0 0 0 0 0]\n",
            " [0 0 0 1 0 0 0 0]\n",
            " [0 0 0 0 1 0 0 0]\n",
            " [0 0 0 0 0 1 0 0]\n",
            " [0 0 0 0 0 0 0 1]\n",
            " [0 0 0 0 0 0 1 0]]\n",
            "\n",
            "Dirac notation of Toffoli gate:\n",
            "Toffoli = |00><00| ⊗ I + |01><01| ⊗ I + |10><10| ⊗ I + |11><11| ⊗ X\n"
          ]
        }
      ]
    },
    {
      "cell_type": "markdown",
      "source": [
        "Thank you."
      ],
      "metadata": {
        "id": "IbwpmSIH1LwJ"
      }
    }
  ],
  "metadata": {
    "colab": {
      "provenance": [],
      "include_colab_link": true
    },
    "kernelspec": {
      "display_name": "Python 3",
      "name": "python3"
    },
    "language_info": {
      "codemirror_mode": {
        "name": "ipython",
        "version": 3
      },
      "file_extension": ".py",
      "mimetype": "text/x-python",
      "name": "python",
      "nbconvert_exporter": "python",
      "pygments_lexer": "ipython3",
      "version": "3.11.9"
    }
  },
  "nbformat": 4,
  "nbformat_minor": 0
}