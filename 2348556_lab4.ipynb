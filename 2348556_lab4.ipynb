{
  "nbformat": 4,
  "nbformat_minor": 0,
  "metadata": {
    "colab": {
      "provenance": [],
      "authorship_tag": "ABX9TyMxK4Xbeu52TjZZKY6vpxgv",
      "include_colab_link": true
    },
    "kernelspec": {
      "name": "python3",
      "display_name": "Python 3"
    },
    "language_info": {
      "name": "python"
    }
  },
  "cells": [
    {
      "cell_type": "markdown",
      "metadata": {
        "id": "view-in-github",
        "colab_type": "text"
      },
      "source": [
        "<a href=\"https://colab.research.google.com/github/shiladityasarkar/QuantumComputing/blob/master/2348556_lab4.ipynb\" target=\"_parent\"><img src=\"https://colab.research.google.com/assets/colab-badge.svg\" alt=\"Open In Colab\"/></a>"
      ]
    },
    {
      "cell_type": "markdown",
      "source": [
        "# Shiladitya **2348556** 🙃"
      ],
      "metadata": {
        "id": "B8M3X-OzwEpX"
      }
    },
    {
      "cell_type": "markdown",
      "source": [
        "## Reference code by Sir.. (Lab starts after this)"
      ],
      "metadata": {
        "id": "uwnXEjsXt2oX"
      }
    },
    {
      "cell_type": "code",
      "source": [
        "%pip install qiskit -q\n",
        "%pip install pylatexenc -q\n",
        "%pip install -U qiskit-aer -q"
      ],
      "metadata": {
        "colab": {
          "base_uri": "https://localhost:8080/"
        },
        "id": "s-e_qSpH-zBg",
        "outputId": "b5725a42-cc03-469f-81ae-1fd82ccd50d0"
      },
      "execution_count": 2,
      "outputs": [
        {
          "output_type": "stream",
          "name": "stdout",
          "text": [
            "\u001b[?25l   \u001b[90m━━━━━━━━━━━━━━━━━━━━━━━━━━━━━━━━━━━━━━━━\u001b[0m \u001b[32m0.0/4.8 MB\u001b[0m \u001b[31m?\u001b[0m eta \u001b[36m-:--:--\u001b[0m\r\u001b[2K   \u001b[91m━━━━━━\u001b[0m\u001b[91m╸\u001b[0m\u001b[90m━━━━━━━━━━━━━━━━━━━━━━━━━━━━━━━━━\u001b[0m \u001b[32m0.8/4.8 MB\u001b[0m \u001b[31m25.0 MB/s\u001b[0m eta \u001b[36m0:00:01\u001b[0m\r\u001b[2K   \u001b[91m━━━━━━━━━━━━━━━━━━━━━━━━━━━━━━━━━━━━━\u001b[0m\u001b[91m╸\u001b[0m\u001b[90m━━\u001b[0m \u001b[32m4.5/4.8 MB\u001b[0m \u001b[31m60.4 MB/s\u001b[0m eta \u001b[36m0:00:01\u001b[0m\r\u001b[2K   \u001b[91m━━━━━━━━━━━━━━━━━━━━━━━━━━━━━━━━━━━━━━━\u001b[0m\u001b[91m╸\u001b[0m \u001b[32m4.8/4.8 MB\u001b[0m \u001b[31m59.6 MB/s\u001b[0m eta \u001b[36m0:00:01\u001b[0m\r\u001b[2K   \u001b[90m━━━━━━━━━━━━━━━━━━━━━━━━━━━━━━━━━━━━━━━━\u001b[0m \u001b[32m4.8/4.8 MB\u001b[0m \u001b[31m39.6 MB/s\u001b[0m eta \u001b[36m0:00:00\u001b[0m\n",
            "\u001b[2K   \u001b[90m━━━━━━━━━━━━━━━━━━━━━━━━━━━━━━━━━━━━━━━━\u001b[0m \u001b[32m119.4/119.4 kB\u001b[0m \u001b[31m7.5 MB/s\u001b[0m eta \u001b[36m0:00:00\u001b[0m\n",
            "\u001b[2K   \u001b[90m━━━━━━━━━━━━━━━━━━━━━━━━━━━━━━━━━━━━━━━━\u001b[0m \u001b[32m2.0/2.0 MB\u001b[0m \u001b[31m23.8 MB/s\u001b[0m eta \u001b[36m0:00:00\u001b[0m\n",
            "\u001b[2K   \u001b[90m━━━━━━━━━━━━━━━━━━━━━━━━━━━━━━━━━━━━━━━━\u001b[0m \u001b[32m49.7/49.7 kB\u001b[0m \u001b[31m1.5 MB/s\u001b[0m eta \u001b[36m0:00:00\u001b[0m\n",
            "\u001b[2K   \u001b[90m━━━━━━━━━━━━━━━━━━━━━━━━━━━━━━━━━━━━━━━━\u001b[0m \u001b[32m49.7/49.7 MB\u001b[0m \u001b[31m16.7 MB/s\u001b[0m eta \u001b[36m0:00:00\u001b[0m\n",
            "\u001b[2K   \u001b[90m━━━━━━━━━━━━━━━━━━━━━━━━━━━━━━━━━━━━━━━━\u001b[0m \u001b[32m108.5/108.5 kB\u001b[0m \u001b[31m4.5 MB/s\u001b[0m eta \u001b[36m0:00:00\u001b[0m\n",
            "\u001b[2K     \u001b[90m━━━━━━━━━━━━━━━━━━━━━━━━━━━━━━━━━━━━━━━━\u001b[0m \u001b[32m162.6/162.6 kB\u001b[0m \u001b[31m2.4 MB/s\u001b[0m eta \u001b[36m0:00:00\u001b[0m\n",
            "\u001b[?25h  Preparing metadata (setup.py) ... \u001b[?25l\u001b[?25hdone\n",
            "  Building wheel for pylatexenc (setup.py) ... \u001b[?25l\u001b[?25hdone\n",
            "\u001b[2K   \u001b[90m━━━━━━━━━━━━━━━━━━━━━━━━━━━━━━━━━━━━━━━━\u001b[0m \u001b[32m12.3/12.3 MB\u001b[0m \u001b[31m15.4 MB/s\u001b[0m eta \u001b[36m0:00:00\u001b[0m\n",
            "\u001b[?25h"
          ]
        }
      ]
    },
    {
      "cell_type": "code",
      "source": [
        "from qiskit import *\n",
        "from qiskit.visualization import *\n",
        "from qiskit.primitives import *\n",
        "from qiskit.quantum_info import Statevector\n",
        "from qiskit_aer import Aer\n",
        "import matplotlib.pyplot as pt\n",
        "import warnings\n",
        "warnings.filterwarnings('ignore')"
      ],
      "metadata": {
        "id": "9XOpvSlvkO3j"
      },
      "execution_count": 14,
      "outputs": []
    },
    {
      "cell_type": "code",
      "source": [
        "circuit = QuantumCircuit(1)\n",
        "circuit.h(0)\n",
        "circuit.s(0)\n",
        "circuit.h(0)\n",
        "circuit.t(0)\n",
        "circuit.draw()"
      ],
      "metadata": {
        "colab": {
          "base_uri": "https://localhost:8080/",
          "height": 63
        },
        "id": "bQEd_tnxkg5G",
        "outputId": "9d9d35e0-a03a-4a80-96b9-27826d86c30e"
      },
      "execution_count": 4,
      "outputs": [
        {
          "output_type": "execute_result",
          "data": {
            "text/plain": [
              "   ┌───┐┌───┐┌───┐┌───┐\n",
              "q: ┤ H ├┤ S ├┤ H ├┤ T ├\n",
              "   └───┘└───┘└───┘└───┘"
            ],
            "text/html": [
              "<pre style=\"word-wrap: normal;white-space: pre;background: #fff0;line-height: 1.1;font-family: &quot;Courier New&quot;,Courier,monospace\">   ┌───┐┌───┐┌───┐┌───┐\n",
              "q: ┤ H ├┤ S ├┤ H ├┤ T ├\n",
              "   └───┘└───┘└───┘└───┘</pre>"
            ]
          },
          "metadata": {},
          "execution_count": 4
        }
      ]
    },
    {
      "cell_type": "code",
      "source": [
        "circuit.measure_all()\n",
        "circuit.draw(output='mpl')"
      ],
      "metadata": {
        "colab": {
          "base_uri": "https://localhost:8080/",
          "height": 191
        },
        "id": "CnoCWMgckojc",
        "outputId": "39fae1ea-2aeb-4f5e-c1d9-290b90a164f3"
      },
      "execution_count": 5,
      "outputs": [
        {
          "output_type": "execute_result",
          "data": {
            "text/plain": [
              "<Figure size 663.998x200.667 with 1 Axes>"
            ],
            "image/png": "[encoded data removed]"
          },
          "metadata": {},
          "execution_count": 5
        }
      ]
    },
    {
      "cell_type": "code",
      "source": [
        "X = QuantumRegister(1, 'X')\n",
        "circuit = QuantumCircuit(X)\n",
        "circuit.h(X)\n",
        "circuit.s(X)\n",
        "circuit.h(X)\n",
        "circuit.t(X)\n",
        "circuit.draw()"
      ],
      "metadata": {
        "colab": {
          "base_uri": "https://localhost:8080/",
          "height": 63
        },
        "id": "ivV32HiykxrL",
        "outputId": "06369f0a-07fc-4b6b-9b3c-0dec3fcc996b"
      },
      "execution_count": 6,
      "outputs": [
        {
          "output_type": "execute_result",
          "data": {
            "text/plain": [
              "   ┌───┐┌───┐┌───┐┌───┐\n",
              "X: ┤ H ├┤ S ├┤ H ├┤ T ├\n",
              "   └───┘└───┘└───┘└───┘"
            ],
            "text/html": [
              "<pre style=\"word-wrap: normal;white-space: pre;background: #fff0;line-height: 1.1;font-family: &quot;Courier New&quot;,Courier,monospace\">   ┌───┐┌───┐┌───┐┌───┐\n",
              "X: ┤ H ├┤ S ├┤ H ├┤ T ├\n",
              "   └───┘└───┘└───┘└───┘</pre>"
            ]
          },
          "metadata": {},
          "execution_count": 6
        }
      ]
    },
    {
      "cell_type": "code",
      "source": [
        "X = QuantumRegister(1, 'X')\n",
        "Y = QuantumRegister(1, 'Y')\n",
        "A = ClassicalRegister(1, 'A')\n",
        "B = ClassicalRegister(1, 'B')\n",
        "circuit = QuantumCircuit(Y, X, B, A)\n",
        "circuit.h(Y)\n",
        "circuit.cx(Y, X)\n",
        "circuit.measure(Y, B)\n",
        "circuit.measure(X, A)\n",
        "circuit.draw(output='mpl')"
      ],
      "metadata": {
        "colab": {
          "base_uri": "https://localhost:8080/",
          "height": 320
        },
        "id": "L8WRKXzllIek",
        "outputId": "42b453a7-6cec-473d-e7cf-5bef3009fa72"
      },
      "execution_count": 7,
      "outputs": [
        {
          "output_type": "execute_result",
          "data": {
            "text/plain": [
              "<Figure size 437.882x367.889 with 1 Axes>"
            ],
            "image/png": "[encoded data removed]"
          },
          "metadata": {},
          "execution_count": 7
        }
      ]
    },
    {
      "cell_type": "code",
      "source": [
        "results = Sampler().run(circuit).result()\n",
        "statistics = results.quasi_dists[0].binary_probabilities()\n",
        "plot_histogram(statistics, color='orchid')"
      ],
      "metadata": {
        "colab": {
          "base_uri": "https://localhost:8080/",
          "height": 437
        },
        "id": "P7hna6STlevk",
        "outputId": "11d7423f-cd2f-4a00-9962-2c242a0960ab"
      },
      "execution_count": 8,
      "outputs": [
        {
          "output_type": "execute_result",
          "data": {
            "text/plain": [
              "<Figure size 640x480 with 1 Axes>"
            ],
            "image/png": "[encoded data removed]"
          },
          "metadata": {},
          "execution_count": 8
        }
      ]
    },
    {
      "cell_type": "markdown",
      "source": [
        "### **1. Design Quantum Circuit for the Operations HSHT and Check the Output for the Two Basic Input Qubits**\n",
        "\n",
        "1. **Define the Circuit**: Apply the Hadamard gate $ H $, followed by the $ S $ gate, then $ H $ again, and finally the $ T $ gate.\n",
        "2. **Measure the Output**: Measure the result to see the output for both input states.\n",
        "\n",
        "#### Understanding the HSHT Circuit\n",
        "\n",
        "1. **Initial State**: The circuit starts with the qubit in state $ |0\\rangle $.\n",
        "\n",
        "2. **First Hadamard (H)**: This transforms the state $ |0\\rangle $ into a superposition:\n",
        "   $$\n",
        "   |0\\rangle \\xrightarrow{H} \\frac{1}{\\sqrt{2}} (|0\\rangle + |1\\rangle)\n",
        "   $$\n",
        "\n",
        "3. **S Gate**: The $ S $ gate (phase gate) adds a phase to the $ |1\\rangle $ component:\n",
        "   $$\n",
        "   \\frac{1}{\\sqrt{2}} (|0\\rangle + |1\\rangle) \\xrightarrow{S} \\frac{1}{\\sqrt{2}} (|0\\rangle + i|1\\rangle)\n",
        "   $$\n",
        "\n",
        "4. **Second Hadamard (H)**: This transforms the state back into a superposition:\n",
        "   $$\n",
        "   \\frac{1}{\\sqrt{2}} (|0\\rangle + i|1\\rangle) \\xrightarrow{H} \\frac{1}{\\sqrt{2}} \\left( \\frac{1 + i}{\\sqrt{2}} |0\\rangle + \\frac{1 - i}{\\sqrt{2}} |1\\rangle \\right)\n",
        "   $$\n",
        "   The result is a more complex superposition, but we don't need the exact coefficients for this explanation.\n",
        "\n",
        "5. **T Gate**: The $ T $ gate applies an additional phase:\n",
        "   $$\n",
        "   |0\\rangle \\rightarrow |0\\rangle, \\quad |1\\rangle \\rightarrow e^{i\\pi/4}|1\\rangle\n",
        "   $$\n",
        "\n",
        "After applying these operations, the output will still be a superposition state, which will generally yield equal probabilities for measuring $ |0\\rangle $ and $ |1\\rangle $, especially if the qubit is in a balanced superposition.\n"
      ],
      "metadata": {
        "id": "1Hz47cOhuOET"
      }
    },
    {
      "cell_type": "code",
      "source": [
        "QR = QuantumRegister(1, 'q')\n",
        "CR = ClassicalRegister(1, 'c')\n",
        "qc = QuantumCircuit(QR, CR)\n",
        "qc.h(QR[0])\n",
        "qc.s(QR[0])\n",
        "qc.h(QR[0])\n",
        "qc.t(QR[0])\n",
        "qc.measure(QR[0], CR[0])\n",
        "qc.draw('mpl')"
      ],
      "metadata": {
        "colab": {
          "base_uri": "https://localhost:8080/",
          "height": 191
        },
        "id": "04LllUliN3Pa",
        "outputId": "483636e5-7689-4fa7-abb5-efaaaba3781f"
      },
      "execution_count": 9,
      "outputs": [
        {
          "output_type": "execute_result",
          "data": {
            "text/plain": [
              "<Figure size 519.897x200.667 with 1 Axes>"
            ],
            "image/png": "[encoded data removed]"
          },
          "metadata": {},
          "execution_count": 9
        }
      ]
    },
    {
      "cell_type": "code",
      "source": [
        "sampler = Sampler()\n",
        "job = sampler.run(qc)\n",
        "result = job.result()\n",
        "counts = result.quasi_dists[0].nearest_probability_distribution()\n",
        "plot_histogram(counts, color='orchid')"
      ],
      "metadata": {
        "colab": {
          "base_uri": "https://localhost:8080/",
          "height": 429
        },
        "id": "tJJEVarhN7_a",
        "outputId": "7da1a05e-1089-4a7b-8cd3-085b09d4f4de"
      },
      "execution_count": 10,
      "outputs": [
        {
          "output_type": "execute_result",
          "data": {
            "text/plain": [
              "<Figure size 640x480 with 1 Axes>"
            ],
            "image/png": "[encoded data removed]"
          },
          "metadata": {},
          "execution_count": 10
        }
      ]
    },
    {
      "cell_type": "markdown",
      "source": [
        "1. **Quantum Register and Classical Register**: A quantum register with one qubit and a classical register for measurement.\n",
        "2. **Quantum Circuit**: The circuit is constructed using the HSHT operation:\n",
        "   - \\( H \\) (Hadamard)\n",
        "   - \\( S \\) (Phase gate)\n",
        "   - \\( H \\) (Hadamard)\n",
        "   - \\( T \\) (T gate)\n",
        "3. **Measurement**: The state of the qubit is measured and stored in the classical register.\n",
        "4. **Sampler**: The `Sampler` is used to execute the circuit, and the output is plotted as a histogram."
      ],
      "metadata": {
        "id": "LRcPmRVZusfP"
      }
    },
    {
      "cell_type": "markdown",
      "source": [
        "### **2. Check the reversibility of the operation HSHT in python and comment on that.**\n",
        "\n",
        "For the HSHT operation, we can apply the inverse of each gate in the reverse order:\n",
        "\n",
        "- The inverse of $ T $ is $ T^\\dagger $ (the adjoint of the T gate).\n",
        "- The inverse of $ H $ is $ H $ itself (since $ H $ is its own inverse).\n",
        "- The inverse of $ S $ is $ S^\\dagger $ (the adjoint of the S gate).\n",
        "\n",
        "The reverse operation for HSHT would be $ H $, followed by $ S^\\dagger $, then $ H $ again, and finally $ T^\\dagger $.\n",
        "\n",
        "**Comments on Reversibility**\n",
        "\n",
        "1. **Output Analysis**:\n",
        "   - The output counts from the HSHT operation and its inverse should ideally reflect the original state.\n",
        "   - For example, if the HSHT operation returns a state predominantly in \\( |0\\rangle \\) or \\( |1\\rangle \\), the inverse operation should also return similar results when starting from that output state.\n",
        "\n",
        "2. **Reversibility**:\n",
        "   - If the inverse operation successfully returns the system to the original state (i.e., the measurement outcomes are the same), then we can conclude that the HSHT operation is reversible.\n",
        "   - If there are discrepancies in the output distributions, it suggests that the HSHT operation is not perfectly reversible.\n"
      ],
      "metadata": {
        "id": "AY7OdZ8Huuwv"
      }
    },
    {
      "cell_type": "code",
      "source": [
        "QCR = QuantumCircuit(QR, CR)\n",
        "QCR.tdg(QR[0])\n",
        "QCR.h(QR[0])\n",
        "QCR.sdg(QR[0])\n",
        "QCR.h(QR[0])\n",
        "QCR.measure(QR[0], CR[0])\n",
        "QCR.draw('mpl')"
      ],
      "metadata": {
        "colab": {
          "base_uri": "https://localhost:8080/",
          "height": 191
        },
        "id": "-2GmQWmKP1q1",
        "outputId": "f160af1d-f5ed-42d7-f6b0-d54fd74ef374"
      },
      "execution_count": 11,
      "outputs": [
        {
          "output_type": "execute_result",
          "data": {
            "text/plain": [
              "<Figure size 519.897x200.667 with 1 Axes>"
            ],
            "image/png": "[encoded data removed]"
          },
          "metadata": {},
          "execution_count": 11
        }
      ]
    },
    {
      "cell_type": "code",
      "source": [
        "job_reverse = sampler.run(QCR)\n",
        "result_reverse = job_reverse.result()\n",
        "counts_reverse = result_reverse.quasi_dists[0].nearest_probability_distribution()\n",
        "plot_histogram(counts_reverse, color='orchid')"
      ],
      "metadata": {
        "id": "Dyz8bK2-QwiN",
        "colab": {
          "base_uri": "https://localhost:8080/",
          "height": 429
        },
        "outputId": "13b71015-07c6-4b2d-8bd7-fb3977d7b58f"
      },
      "execution_count": 12,
      "outputs": [
        {
          "output_type": "execute_result",
          "data": {
            "text/plain": [
              "<Figure size 640x480 with 1 Axes>"
            ],
            "image/png": "[encoded data removed]"
          },
          "metadata": {},
          "execution_count": 12
        }
      ]
    },
    {
      "cell_type": "markdown",
      "source": [
        "### **3. Design a quantum circuit using H and Control-Not gate and check the output for various input combinations.**"
      ],
      "metadata": {
        "id": "m--qp2BYvBgN"
      }
    },
    {
      "cell_type": "code",
      "source": [
        "%matplotlib inline\n",
        "\n",
        "def print_output(initial_state):\n",
        "  circuit = QuantumCircuit(2, 2)\n",
        "\n",
        "  if initial_state == [1, 0]:\n",
        "      circuit.x(0)\n",
        "  elif initial_state == [0, 1]:\n",
        "      circuit.x(1)\n",
        "  elif initial_state == [1, 1]:\n",
        "      circuit.x(0)\n",
        "      circuit.x(1)\n",
        "  circuit.h(0)\n",
        "  circuit.cx(0, 1)\n",
        "  final_state = Statevector.from_instruction(circuit)\n",
        "  print(f\"Circuit for initial state |{initial_state[0]}{initial_state[1]}⟩:\")\n",
        "  circuit.draw(\"mpl\")\n",
        "  pt.show()\n",
        "  print(f\"Final state after applying the circuit:\")\n",
        "  display(final_state.draw(\"latex\"))\n",
        "  pt.show()\n",
        "\n",
        "initial_states = [[0, 0], [0, 1], [1, 0], [1, 1]]\n",
        "\n",
        "for state in initial_states:\n",
        "    print_output(state)"
      ],
      "metadata": {
        "colab": {
          "base_uri": "https://localhost:8080/",
          "height": 250
        },
        "id": "nECqhqvGu-6F",
        "outputId": "a381c489-289d-47e4-c9a4-0b3f21674c22"
      },
      "execution_count": 15,
      "outputs": [
        {
          "output_type": "stream",
          "name": "stdout",
          "text": [
            "Circuit for initial state |00⟩:\n",
            "Final state after applying the circuit:\n"
          ]
        },
        {
          "output_type": "display_data",
          "data": {
            "text/plain": [
              "<IPython.core.display.Latex object>"
            ],
            "text/latex": "$$\\frac{\\sqrt{2}}{2} |00\\rangle+\\frac{\\sqrt{2}}{2} |11\\rangle$$"
          },
          "metadata": {}
        },
        {
          "output_type": "stream",
          "name": "stdout",
          "text": [
            "Circuit for initial state |01⟩:\n",
            "Final state after applying the circuit:\n"
          ]
        },
        {
          "output_type": "display_data",
          "data": {
            "text/plain": [
              "<IPython.core.display.Latex object>"
            ],
            "text/latex": "$$\\frac{\\sqrt{2}}{2} |01\\rangle+\\frac{\\sqrt{2}}{2} |10\\rangle$$"
          },
          "metadata": {}
        },
        {
          "output_type": "stream",
          "name": "stdout",
          "text": [
            "Circuit for initial state |10⟩:\n",
            "Final state after applying the circuit:\n"
          ]
        },
        {
          "output_type": "display_data",
          "data": {
            "text/plain": [
              "<IPython.core.display.Latex object>"
            ],
            "text/latex": "$$\\frac{\\sqrt{2}}{2} |00\\rangle- \\frac{\\sqrt{2}}{2} |11\\rangle$$"
          },
          "metadata": {}
        },
        {
          "output_type": "stream",
          "name": "stdout",
          "text": [
            "Circuit for initial state |11⟩:\n",
            "Final state after applying the circuit:\n"
          ]
        },
        {
          "output_type": "display_data",
          "data": {
            "text/plain": [
              "<IPython.core.display.Latex object>"
            ],
            "text/latex": "$$- \\frac{\\sqrt{2}}{2} |01\\rangle+\\frac{\\sqrt{2}}{2} |10\\rangle$$"
          },
          "metadata": {}
        }
      ]
    },
    {
      "cell_type": "markdown",
      "source": [
        "### **4. Comment on the Output Generated by the Above Circuit and Establish the Relation with Bell States**\n",
        "\n",
        "#### Circuit Output\n",
        "\n",
        "The quantum circuit designed with the Hadamard (H) gate and Controlled-NOT (CNOT) gate operates as follows based on the initial states:\n",
        "\n",
        "1. **Initial State $ |00\\rangle $**:\n",
        "   - **Circuit Operation**: The Hadamard gate on $ q_0 $ transforms it to a superposition state, resulting in $ |+\\rangle = \\frac{1}{\\sqrt{2}} (|0\\rangle + |1\\rangle) $. The CNOT gate does not change $ q_1 $ since $ q_0 $ is $ |0\\rangle $.\n",
        "   - **Final Output**: The output is $ |00\\rangle + |11\\rangle $, which indicates both outcomes are possible, but neither is entangled.\n",
        "\n",
        "2. **Initial State $ |01\\rangle $**:\n",
        "   - **Circuit Operation**: The $ X $ gate sets $ q_0 $ to $ |1\\rangle $, so applying the H gate creates \\( |0\\rangle \\) and \\( |1\\rangle \\) superpositions, followed by CNOT.\n",
        "   - **Final Output**: The output is $ |01\\rangle + |10\\rangle $. Here, $ q_1 $ is influenced by $ q_0 $, creating correlation but not entanglement.\n",
        "\n",
        "3. **Initial State $ |10\\rangle $**:\n",
        "   - **Circuit Operation**: Similar to $ |01\\rangle $, where $ q_0 $ is initially set to $ |1\\rangle $.\n",
        "   - **Final Output**: The output is $ |00\\rangle + |11\\rangle $. Again, correlation exists between the qubits, but they remain distinct and not entangled.\n",
        "\n",
        "4. **Initial State $ |11\\rangle $**:\n",
        "   - **Circuit Operation**: After setting both qubits to $ |1\\rangle $, applying the Hadamard on $ q_0 $ leads to a superposition, and CNOT entangles the qubits.\n",
        "   - **Final Output**: The output is $ |01\\rangle + |10\\rangle $, similar to the previous case. However, if you set $ q_0 $ to $ |0\\rangle and  |1\\rangle $, it would have resulted in a more distinct outcome.\n",
        "\n",
        "\n",
        "### Bell State Transformations Using U\n",
        "\n",
        "Given a unitary operation \\( U \\), the transformations on the computational basis states can be described as follows:\n",
        "\n",
        "- $$ U|00\\rangle = |\\Phi^+\\rangle $$\n",
        "- $$ U|01\\rangle = |\\Psi^+\\rangle $$\n",
        "- $$ U|10\\rangle = |\\Phi^-\\rangle $$\n",
        "- $$ U|11\\rangle = -|\\Psi^-\\rangle $$\n",
        "\n",
        "Where the Bell states are defined as:\n",
        "\n",
        "- $$ |\\Phi^+\\rangle = \\frac{1}{\\sqrt{2}} (|00\\rangle + |11\\rangle) $$\n",
        "- $$ |\\Phi^-\\rangle = \\frac{1}{\\sqrt{2}} (|00\\rangle - |11\\rangle) $$\n",
        "- $$ |\\Psi^+\\rangle = \\frac{1}{\\sqrt{2}} (|01\\rangle + |10\\rangle) $$\n",
        "- $$ |\\Psi^-\\rangle = \\frac{-1}{\\sqrt{2}} (|01\\rangle - |10\\rangle) $$\n",
        "\n",
        "\n",
        "### Inference\n",
        "\n",
        "The circuit effectively demonstrates how to use the Hadamard and CNOT gates to create quantum correlations. While the outputs show some correlation between qubits, they do not represent true entanglement as seen in Bell states. To create those states, specific manipulations and initial conditions must be applied. The study of such circuits helps in understanding the foundational aspects of quantum mechanics and quantum information theory.\n",
        "\n",
        "Which concludes our discussion."
      ],
      "metadata": {
        "id": "vlBh8O7pvmFm"
      }
    },
    {
      "cell_type": "markdown",
      "source": [
        "Thank you."
      ],
      "metadata": {
        "id": "bn8NAb_1wBNb"
      }
    }
  ]
}